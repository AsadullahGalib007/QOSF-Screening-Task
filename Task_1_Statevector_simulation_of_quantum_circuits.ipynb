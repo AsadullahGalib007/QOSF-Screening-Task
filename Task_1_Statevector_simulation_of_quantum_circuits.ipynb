{
  "nbformat": 4,
  "nbformat_minor": 0,
  "metadata": {
    "colab": {
      "provenance": [],
      "include_colab_link": true
    },
    "kernelspec": {
      "name": "python3",
      "display_name": "Python 3"
    },
    "language_info": {
      "name": "python"
    }
  },
  "cells": [
    {
      "cell_type": "markdown",
      "metadata": {
        "id": "view-in-github",
        "colab_type": "text"
      },
      "source": [
        "<a href=\"https://colab.research.google.com/github/AsadullahGalib007/QOSF-Screening-Task/blob/main/Task_1_Statevector_simulation_of_quantum_circuits.ipynb\" target=\"_parent\"><img src=\"https://colab.research.google.com/assets/colab-badge.svg\" alt=\"Open In Colab\"/></a>"
      ]
    },
    {
      "cell_type": "markdown",
      "source": [
        "# Task 1 Statevector simulation of quantum circuits"
      ],
      "metadata": {
        "id": "sVpXgAo3KFS-"
      }
    },
    {
      "cell_type": "markdown",
      "source": [
        "TOC"
      ],
      "metadata": {
        "id": "WRlNupkJw1jT"
      }
    },
    {
      "cell_type": "markdown",
      "source": [
        ">[Task 1 Statevector simulation of quantum circuits](#scrollTo=sVpXgAo3KFS-)\n",
        "\n",
        ">>[Naive Simulation with simple matrix multiplicaion](#scrollTo=4yhbnH2l8qNU)\n",
        "\n",
        ">>[Advanced Simulation with tensor multiplication](#scrollTo=FKDmCsU3KRbt)\n",
        "\n",
        ">>[Bonus Question](#scrollTo=ETkPYpmUJ6Ds)\n",
        "\n"
      ],
      "metadata": {
        "colab_type": "toc",
        "id": "fwEYtMgjwzjz"
      }
    },
    {
      "cell_type": "markdown",
      "source": [
        "## 1. Naive Simulation with simple matrix multiplicaion"
      ],
      "metadata": {
        "id": "4yhbnH2l8qNU"
      }
    },
    {
      "cell_type": "code",
      "source": [
        "# Initializing the statevec\n",
        "import numpy as np\n",
        "import time\n",
        "import matplotlib.pyplot as plt\n",
        "\n",
        "def initialize_statevector(n):\n",
        "    statevector = np.zeros(2**n)\n",
        "    statevector[0] = 1\n",
        "    return statevector\n",
        "\n",
        "# Example for a 1-12-qubit system\n",
        "for i in range (1, 12):\n",
        "    n_qubits = i\n",
        "    statevector = initialize_statevector(n_qubits)\n",
        "    print(f\"n_qubit: {n_qubits}, State:|{'0' * n_qubits}>, Statevector:\\n{statevector}\")\n",
        "    print()\n"
      ],
      "metadata": {
        "colab": {
          "base_uri": "https://localhost:8080/"
        },
        "id": "i4J8pHdXY-hs",
        "outputId": "af0111be-ff26-4414-93a1-e8e04e399487"
      },
      "execution_count": null,
      "outputs": [
        {
          "output_type": "stream",
          "name": "stdout",
          "text": [
            "n_qubit: 1, State:|0>, Statevector:\n",
            "[1. 0.]\n",
            "\n",
            "n_qubit: 2, State:|00>, Statevector:\n",
            "[1. 0. 0. 0.]\n",
            "\n",
            "n_qubit: 3, State:|000>, Statevector:\n",
            "[1. 0. 0. 0. 0. 0. 0. 0.]\n",
            "\n",
            "n_qubit: 4, State:|0000>, Statevector:\n",
            "[1. 0. 0. 0. 0. 0. 0. 0. 0. 0. 0. 0. 0. 0. 0. 0.]\n",
            "\n",
            "n_qubit: 5, State:|00000>, Statevector:\n",
            "[1. 0. 0. 0. 0. 0. 0. 0. 0. 0. 0. 0. 0. 0. 0. 0. 0. 0. 0. 0. 0. 0. 0. 0.\n",
            " 0. 0. 0. 0. 0. 0. 0. 0.]\n",
            "\n",
            "n_qubit: 6, State:|000000>, Statevector:\n",
            "[1. 0. 0. 0. 0. 0. 0. 0. 0. 0. 0. 0. 0. 0. 0. 0. 0. 0. 0. 0. 0. 0. 0. 0.\n",
            " 0. 0. 0. 0. 0. 0. 0. 0. 0. 0. 0. 0. 0. 0. 0. 0. 0. 0. 0. 0. 0. 0. 0. 0.\n",
            " 0. 0. 0. 0. 0. 0. 0. 0. 0. 0. 0. 0. 0. 0. 0. 0.]\n",
            "\n",
            "n_qubit: 7, State:|0000000>, Statevector:\n",
            "[1. 0. 0. 0. 0. 0. 0. 0. 0. 0. 0. 0. 0. 0. 0. 0. 0. 0. 0. 0. 0. 0. 0. 0.\n",
            " 0. 0. 0. 0. 0. 0. 0. 0. 0. 0. 0. 0. 0. 0. 0. 0. 0. 0. 0. 0. 0. 0. 0. 0.\n",
            " 0. 0. 0. 0. 0. 0. 0. 0. 0. 0. 0. 0. 0. 0. 0. 0. 0. 0. 0. 0. 0. 0. 0. 0.\n",
            " 0. 0. 0. 0. 0. 0. 0. 0. 0. 0. 0. 0. 0. 0. 0. 0. 0. 0. 0. 0. 0. 0. 0. 0.\n",
            " 0. 0. 0. 0. 0. 0. 0. 0. 0. 0. 0. 0. 0. 0. 0. 0. 0. 0. 0. 0. 0. 0. 0. 0.\n",
            " 0. 0. 0. 0. 0. 0. 0. 0.]\n",
            "\n",
            "n_qubit: 8, State:|00000000>, Statevector:\n",
            "[1. 0. 0. 0. 0. 0. 0. 0. 0. 0. 0. 0. 0. 0. 0. 0. 0. 0. 0. 0. 0. 0. 0. 0.\n",
            " 0. 0. 0. 0. 0. 0. 0. 0. 0. 0. 0. 0. 0. 0. 0. 0. 0. 0. 0. 0. 0. 0. 0. 0.\n",
            " 0. 0. 0. 0. 0. 0. 0. 0. 0. 0. 0. 0. 0. 0. 0. 0. 0. 0. 0. 0. 0. 0. 0. 0.\n",
            " 0. 0. 0. 0. 0. 0. 0. 0. 0. 0. 0. 0. 0. 0. 0. 0. 0. 0. 0. 0. 0. 0. 0. 0.\n",
            " 0. 0. 0. 0. 0. 0. 0. 0. 0. 0. 0. 0. 0. 0. 0. 0. 0. 0. 0. 0. 0. 0. 0. 0.\n",
            " 0. 0. 0. 0. 0. 0. 0. 0. 0. 0. 0. 0. 0. 0. 0. 0. 0. 0. 0. 0. 0. 0. 0. 0.\n",
            " 0. 0. 0. 0. 0. 0. 0. 0. 0. 0. 0. 0. 0. 0. 0. 0. 0. 0. 0. 0. 0. 0. 0. 0.\n",
            " 0. 0. 0. 0. 0. 0. 0. 0. 0. 0. 0. 0. 0. 0. 0. 0. 0. 0. 0. 0. 0. 0. 0. 0.\n",
            " 0. 0. 0. 0. 0. 0. 0. 0. 0. 0. 0. 0. 0. 0. 0. 0. 0. 0. 0. 0. 0. 0. 0. 0.\n",
            " 0. 0. 0. 0. 0. 0. 0. 0. 0. 0. 0. 0. 0. 0. 0. 0. 0. 0. 0. 0. 0. 0. 0. 0.\n",
            " 0. 0. 0. 0. 0. 0. 0. 0. 0. 0. 0. 0. 0. 0. 0. 0.]\n",
            "\n",
            "n_qubit: 9, State:|000000000>, Statevector:\n",
            "[1. 0. 0. 0. 0. 0. 0. 0. 0. 0. 0. 0. 0. 0. 0. 0. 0. 0. 0. 0. 0. 0. 0. 0.\n",
            " 0. 0. 0. 0. 0. 0. 0. 0. 0. 0. 0. 0. 0. 0. 0. 0. 0. 0. 0. 0. 0. 0. 0. 0.\n",
            " 0. 0. 0. 0. 0. 0. 0. 0. 0. 0. 0. 0. 0. 0. 0. 0. 0. 0. 0. 0. 0. 0. 0. 0.\n",
            " 0. 0. 0. 0. 0. 0. 0. 0. 0. 0. 0. 0. 0. 0. 0. 0. 0. 0. 0. 0. 0. 0. 0. 0.\n",
            " 0. 0. 0. 0. 0. 0. 0. 0. 0. 0. 0. 0. 0. 0. 0. 0. 0. 0. 0. 0. 0. 0. 0. 0.\n",
            " 0. 0. 0. 0. 0. 0. 0. 0. 0. 0. 0. 0. 0. 0. 0. 0. 0. 0. 0. 0. 0. 0. 0. 0.\n",
            " 0. 0. 0. 0. 0. 0. 0. 0. 0. 0. 0. 0. 0. 0. 0. 0. 0. 0. 0. 0. 0. 0. 0. 0.\n",
            " 0. 0. 0. 0. 0. 0. 0. 0. 0. 0. 0. 0. 0. 0. 0. 0. 0. 0. 0. 0. 0. 0. 0. 0.\n",
            " 0. 0. 0. 0. 0. 0. 0. 0. 0. 0. 0. 0. 0. 0. 0. 0. 0. 0. 0. 0. 0. 0. 0. 0.\n",
            " 0. 0. 0. 0. 0. 0. 0. 0. 0. 0. 0. 0. 0. 0. 0. 0. 0. 0. 0. 0. 0. 0. 0. 0.\n",
            " 0. 0. 0. 0. 0. 0. 0. 0. 0. 0. 0. 0. 0. 0. 0. 0. 0. 0. 0. 0. 0. 0. 0. 0.\n",
            " 0. 0. 0. 0. 0. 0. 0. 0. 0. 0. 0. 0. 0. 0. 0. 0. 0. 0. 0. 0. 0. 0. 0. 0.\n",
            " 0. 0. 0. 0. 0. 0. 0. 0. 0. 0. 0. 0. 0. 0. 0. 0. 0. 0. 0. 0. 0. 0. 0. 0.\n",
            " 0. 0. 0. 0. 0. 0. 0. 0. 0. 0. 0. 0. 0. 0. 0. 0. 0. 0. 0. 0. 0. 0. 0. 0.\n",
            " 0. 0. 0. 0. 0. 0. 0. 0. 0. 0. 0. 0. 0. 0. 0. 0. 0. 0. 0. 0. 0. 0. 0. 0.\n",
            " 0. 0. 0. 0. 0. 0. 0. 0. 0. 0. 0. 0. 0. 0. 0. 0. 0. 0. 0. 0. 0. 0. 0. 0.\n",
            " 0. 0. 0. 0. 0. 0. 0. 0. 0. 0. 0. 0. 0. 0. 0. 0. 0. 0. 0. 0. 0. 0. 0. 0.\n",
            " 0. 0. 0. 0. 0. 0. 0. 0. 0. 0. 0. 0. 0. 0. 0. 0. 0. 0. 0. 0. 0. 0. 0. 0.\n",
            " 0. 0. 0. 0. 0. 0. 0. 0. 0. 0. 0. 0. 0. 0. 0. 0. 0. 0. 0. 0. 0. 0. 0. 0.\n",
            " 0. 0. 0. 0. 0. 0. 0. 0. 0. 0. 0. 0. 0. 0. 0. 0. 0. 0. 0. 0. 0. 0. 0. 0.\n",
            " 0. 0. 0. 0. 0. 0. 0. 0. 0. 0. 0. 0. 0. 0. 0. 0. 0. 0. 0. 0. 0. 0. 0. 0.\n",
            " 0. 0. 0. 0. 0. 0. 0. 0.]\n",
            "\n",
            "n_qubit: 10, State:|0000000000>, Statevector:\n",
            "[1. 0. 0. ... 0. 0. 0.]\n",
            "\n",
            "n_qubit: 11, State:|00000000000>, Statevector:\n",
            "[1. 0. 0. ... 0. 0. 0.]\n",
            "\n"
          ]
        }
      ]
    },
    {
      "cell_type": "code",
      "source": [
        "# basic gates\n",
        "def hadamard():\n",
        "    return np.array([\n",
        "                    [1, 1],\n",
        "                    [1, -1]]) / 2**0.5\n",
        "\n",
        "def pauli_x():\n",
        "    return np.array([\n",
        "                    [0, 1],\n",
        "                    [1, 0]])\n",
        "\n",
        "def identity():\n",
        "    return np.array([\n",
        "                    [1, 0],\n",
        "                    [0, 1]])"
      ],
      "metadata": {
        "id": "RyhABI_9ZAjO"
      },
      "execution_count": null,
      "outputs": []
    },
    {
      "cell_type": "code",
      "source": [
        "def kron_product(gates):\n",
        "    result = gates[0]\n",
        "    for gate in gates[1:]:\n",
        "        result = np.kron(result, gate)\n",
        "    return result\n",
        "\n",
        "def apply_gate(statevector, gate, qubit_index, num_qubits):\n",
        "    gate_list = []\n",
        "    for i in range(num_qubits):\n",
        "        if i == qubit_index:\n",
        "            gate_list.append(gate)  # Apply gate on the specific qubit\n",
        "        else:\n",
        "            gate_list.append(identity())  # Identity on other qubits\n",
        "    full_operator = kron_product(gate_list)\n",
        "\n",
        "    # Apply the full operator to the statevector\n",
        "    return full_operator @ statevector"
      ],
      "metadata": {
        "id": "2Vy_K2jTcSxA"
      },
      "execution_count": null,
      "outputs": []
    },
    {
      "cell_type": "code",
      "source": [
        "# Define a quantum circuit and apply gates(X and Hadamard) sequentially\n",
        "def quantum_circuit(num_qubits):\n",
        "    state = initialize_statevector(num_qubits)\n",
        "\n",
        "    print(f\"Statevector(before)\\n\",state)\n",
        "    print()\n",
        "\n",
        "    for i in range(num_qubits):\n",
        "        # Apply X gate to all\n",
        "        state = apply_gate(state, pauli_x(), qubit_index=i, num_qubits=num_qubits)\n",
        "\n",
        "        # Apply Hadamard gate to all\n",
        "        state = apply_gate(state, hadamard(), qubit_index=i, num_qubits=num_qubits)\n",
        "\n",
        "        # Couldn't\n",
        "    print(f\"Statevector(after)\\n\",state)\n",
        "    print()\n",
        "    return state"
      ],
      "metadata": {
        "id": "fxBxlwoUnBnP"
      },
      "execution_count": null,
      "outputs": []
    },
    {
      "cell_type": "code",
      "source": [
        "def measure_runtime(n_qubits):\n",
        "    qubit_range = range(1, n_qubits)  # Test for 1 to n_qubits\n",
        "    runtimes = []\n",
        "\n",
        "    for num_qubits in qubit_range:\n",
        "        start_time = time.time()\n",
        "\n",
        "        # Simulate the quantum circuit for num_qubits\n",
        "        quantum_circuit(num_qubits)\n",
        "\n",
        "        end_time = time.time()\n",
        "        runtime = end_time - start_time\n",
        "        runtimes.append(runtime)\n",
        "\n",
        "        print(f\"Number of qubits: {num_qubits}, Runtime: {runtime:.6f} seconds\")\n",
        "        print()\n",
        "\n",
        "    return runtimes"
      ],
      "metadata": {
        "id": "JMf7gk4zmtJ3"
      },
      "execution_count": null,
      "outputs": []
    },
    {
      "cell_type": "code",
      "source": [
        "# Plot the runtime vs. number of qubits\n",
        "def plot_runtime(qubit_range, runtimes):\n",
        "    plt.figure(figsize=(10, 6))\n",
        "    plt.plot(qubit_range, runtimes, marker='o', color='b')\n",
        "    plt.xlabel('Number of Qubits')\n",
        "    plt.ylabel('Runtime (seconds)')\n",
        "    plt.title('Runtime of Quantum Circuit Simulation (Naive) vs. Number of Qubits')\n",
        "    plt.grid(True)\n",
        "    plt.show()\n",
        "\n",
        "# Run the runtime measurement for naive simulation\n",
        "\n",
        "# 14 qubits: 1 to 14\n",
        "n_qubits = 14\n",
        "qubit_range = range(1, n_qubits+1)\n",
        "runtimes = measure_runtime(n_qubits+1)"
      ],
      "metadata": {
        "colab": {
          "base_uri": "https://localhost:8080/"
        },
        "id": "16D7D5SIncnv",
        "outputId": "46998a96-07e6-455d-ee3b-087547c84f43"
      },
      "execution_count": null,
      "outputs": [
        {
          "output_type": "stream",
          "name": "stdout",
          "text": [
            "Statevector(before)\n",
            " [1. 0.]\n",
            "\n",
            "Statevector(after)\n",
            " [ 0.70710678 -0.70710678]\n",
            "\n",
            "Number of qubits: 1, Runtime: 0.001610 seconds\n",
            "\n",
            "Statevector(before)\n",
            " [1. 0. 0. 0.]\n",
            "\n",
            "Statevector(after)\n",
            " [ 0.5 -0.5 -0.5  0.5]\n",
            "\n",
            "Number of qubits: 2, Runtime: 0.000993 seconds\n",
            "\n",
            "Statevector(before)\n",
            " [1. 0. 0. 0. 0. 0. 0. 0.]\n",
            "\n",
            "Statevector(after)\n",
            " [ 0.35355339 -0.35355339 -0.35355339  0.35355339 -0.35355339  0.35355339\n",
            "  0.35355339 -0.35355339]\n",
            "\n",
            "Number of qubits: 3, Runtime: 0.008547 seconds\n",
            "\n",
            "Statevector(before)\n",
            " [1. 0. 0. 0. 0. 0. 0. 0. 0. 0. 0. 0. 0. 0. 0. 0.]\n",
            "\n",
            "Statevector(after)\n",
            " [ 0.25 -0.25 -0.25  0.25 -0.25  0.25  0.25 -0.25 -0.25  0.25  0.25 -0.25\n",
            "  0.25 -0.25 -0.25  0.25]\n",
            "\n",
            "Number of qubits: 4, Runtime: 0.004890 seconds\n",
            "\n",
            "Statevector(before)\n",
            " [1. 0. 0. 0. 0. 0. 0. 0. 0. 0. 0. 0. 0. 0. 0. 0. 0. 0. 0. 0. 0. 0. 0. 0.\n",
            " 0. 0. 0. 0. 0. 0. 0. 0.]\n",
            "\n",
            "Statevector(after)\n",
            " [ 0.1767767 -0.1767767 -0.1767767  0.1767767 -0.1767767  0.1767767\n",
            "  0.1767767 -0.1767767 -0.1767767  0.1767767  0.1767767 -0.1767767\n",
            "  0.1767767 -0.1767767 -0.1767767  0.1767767 -0.1767767  0.1767767\n",
            "  0.1767767 -0.1767767  0.1767767 -0.1767767 -0.1767767  0.1767767\n",
            "  0.1767767 -0.1767767 -0.1767767  0.1767767 -0.1767767  0.1767767\n",
            "  0.1767767 -0.1767767]\n",
            "\n",
            "Number of qubits: 5, Runtime: 0.004267 seconds\n",
            "\n",
            "Statevector(before)\n",
            " [1. 0. 0. 0. 0. 0. 0. 0. 0. 0. 0. 0. 0. 0. 0. 0. 0. 0. 0. 0. 0. 0. 0. 0.\n",
            " 0. 0. 0. 0. 0. 0. 0. 0. 0. 0. 0. 0. 0. 0. 0. 0. 0. 0. 0. 0. 0. 0. 0. 0.\n",
            " 0. 0. 0. 0. 0. 0. 0. 0. 0. 0. 0. 0. 0. 0. 0. 0.]\n",
            "\n",
            "Statevector(after)\n",
            " [ 0.125 -0.125 -0.125  0.125 -0.125  0.125  0.125 -0.125 -0.125  0.125\n",
            "  0.125 -0.125  0.125 -0.125 -0.125  0.125 -0.125  0.125  0.125 -0.125\n",
            "  0.125 -0.125 -0.125  0.125  0.125 -0.125 -0.125  0.125 -0.125  0.125\n",
            "  0.125 -0.125 -0.125  0.125  0.125 -0.125  0.125 -0.125 -0.125  0.125\n",
            "  0.125 -0.125 -0.125  0.125 -0.125  0.125  0.125 -0.125  0.125 -0.125\n",
            " -0.125  0.125 -0.125  0.125  0.125 -0.125 -0.125  0.125  0.125 -0.125\n",
            "  0.125 -0.125 -0.125  0.125]\n",
            "\n",
            "Number of qubits: 6, Runtime: 0.006836 seconds\n",
            "\n",
            "Statevector(before)\n",
            " [1. 0. 0. 0. 0. 0. 0. 0. 0. 0. 0. 0. 0. 0. 0. 0. 0. 0. 0. 0. 0. 0. 0. 0.\n",
            " 0. 0. 0. 0. 0. 0. 0. 0. 0. 0. 0. 0. 0. 0. 0. 0. 0. 0. 0. 0. 0. 0. 0. 0.\n",
            " 0. 0. 0. 0. 0. 0. 0. 0. 0. 0. 0. 0. 0. 0. 0. 0. 0. 0. 0. 0. 0. 0. 0. 0.\n",
            " 0. 0. 0. 0. 0. 0. 0. 0. 0. 0. 0. 0. 0. 0. 0. 0. 0. 0. 0. 0. 0. 0. 0. 0.\n",
            " 0. 0. 0. 0. 0. 0. 0. 0. 0. 0. 0. 0. 0. 0. 0. 0. 0. 0. 0. 0. 0. 0. 0. 0.\n",
            " 0. 0. 0. 0. 0. 0. 0. 0.]\n",
            "\n",
            "Statevector(after)\n",
            " [ 0.08838835 -0.08838835 -0.08838835  0.08838835 -0.08838835  0.08838835\n",
            "  0.08838835 -0.08838835 -0.08838835  0.08838835  0.08838835 -0.08838835\n",
            "  0.08838835 -0.08838835 -0.08838835  0.08838835 -0.08838835  0.08838835\n",
            "  0.08838835 -0.08838835  0.08838835 -0.08838835 -0.08838835  0.08838835\n",
            "  0.08838835 -0.08838835 -0.08838835  0.08838835 -0.08838835  0.08838835\n",
            "  0.08838835 -0.08838835 -0.08838835  0.08838835  0.08838835 -0.08838835\n",
            "  0.08838835 -0.08838835 -0.08838835  0.08838835  0.08838835 -0.08838835\n",
            " -0.08838835  0.08838835 -0.08838835  0.08838835  0.08838835 -0.08838835\n",
            "  0.08838835 -0.08838835 -0.08838835  0.08838835 -0.08838835  0.08838835\n",
            "  0.08838835 -0.08838835 -0.08838835  0.08838835  0.08838835 -0.08838835\n",
            "  0.08838835 -0.08838835 -0.08838835  0.08838835 -0.08838835  0.08838835\n",
            "  0.08838835 -0.08838835  0.08838835 -0.08838835 -0.08838835  0.08838835\n",
            "  0.08838835 -0.08838835 -0.08838835  0.08838835 -0.08838835  0.08838835\n",
            "  0.08838835 -0.08838835  0.08838835 -0.08838835 -0.08838835  0.08838835\n",
            " -0.08838835  0.08838835  0.08838835 -0.08838835 -0.08838835  0.08838835\n",
            "  0.08838835 -0.08838835  0.08838835 -0.08838835 -0.08838835  0.08838835\n",
            "  0.08838835 -0.08838835 -0.08838835  0.08838835 -0.08838835  0.08838835\n",
            "  0.08838835 -0.08838835 -0.08838835  0.08838835  0.08838835 -0.08838835\n",
            "  0.08838835 -0.08838835 -0.08838835  0.08838835 -0.08838835  0.08838835\n",
            "  0.08838835 -0.08838835  0.08838835 -0.08838835 -0.08838835  0.08838835\n",
            "  0.08838835 -0.08838835 -0.08838835  0.08838835 -0.08838835  0.08838835\n",
            "  0.08838835 -0.08838835]\n",
            "\n",
            "Number of qubits: 7, Runtime: 0.021785 seconds\n",
            "\n",
            "Statevector(before)\n",
            " [1. 0. 0. 0. 0. 0. 0. 0. 0. 0. 0. 0. 0. 0. 0. 0. 0. 0. 0. 0. 0. 0. 0. 0.\n",
            " 0. 0. 0. 0. 0. 0. 0. 0. 0. 0. 0. 0. 0. 0. 0. 0. 0. 0. 0. 0. 0. 0. 0. 0.\n",
            " 0. 0. 0. 0. 0. 0. 0. 0. 0. 0. 0. 0. 0. 0. 0. 0. 0. 0. 0. 0. 0. 0. 0. 0.\n",
            " 0. 0. 0. 0. 0. 0. 0. 0. 0. 0. 0. 0. 0. 0. 0. 0. 0. 0. 0. 0. 0. 0. 0. 0.\n",
            " 0. 0. 0. 0. 0. 0. 0. 0. 0. 0. 0. 0. 0. 0. 0. 0. 0. 0. 0. 0. 0. 0. 0. 0.\n",
            " 0. 0. 0. 0. 0. 0. 0. 0. 0. 0. 0. 0. 0. 0. 0. 0. 0. 0. 0. 0. 0. 0. 0. 0.\n",
            " 0. 0. 0. 0. 0. 0. 0. 0. 0. 0. 0. 0. 0. 0. 0. 0. 0. 0. 0. 0. 0. 0. 0. 0.\n",
            " 0. 0. 0. 0. 0. 0. 0. 0. 0. 0. 0. 0. 0. 0. 0. 0. 0. 0. 0. 0. 0. 0. 0. 0.\n",
            " 0. 0. 0. 0. 0. 0. 0. 0. 0. 0. 0. 0. 0. 0. 0. 0. 0. 0. 0. 0. 0. 0. 0. 0.\n",
            " 0. 0. 0. 0. 0. 0. 0. 0. 0. 0. 0. 0. 0. 0. 0. 0. 0. 0. 0. 0. 0. 0. 0. 0.\n",
            " 0. 0. 0. 0. 0. 0. 0. 0. 0. 0. 0. 0. 0. 0. 0. 0.]\n",
            "\n",
            "Statevector(after)\n",
            " [ 0.0625 -0.0625 -0.0625  0.0625 -0.0625  0.0625  0.0625 -0.0625 -0.0625\n",
            "  0.0625  0.0625 -0.0625  0.0625 -0.0625 -0.0625  0.0625 -0.0625  0.0625\n",
            "  0.0625 -0.0625  0.0625 -0.0625 -0.0625  0.0625  0.0625 -0.0625 -0.0625\n",
            "  0.0625 -0.0625  0.0625  0.0625 -0.0625 -0.0625  0.0625  0.0625 -0.0625\n",
            "  0.0625 -0.0625 -0.0625  0.0625  0.0625 -0.0625 -0.0625  0.0625 -0.0625\n",
            "  0.0625  0.0625 -0.0625  0.0625 -0.0625 -0.0625  0.0625 -0.0625  0.0625\n",
            "  0.0625 -0.0625 -0.0625  0.0625  0.0625 -0.0625  0.0625 -0.0625 -0.0625\n",
            "  0.0625 -0.0625  0.0625  0.0625 -0.0625  0.0625 -0.0625 -0.0625  0.0625\n",
            "  0.0625 -0.0625 -0.0625  0.0625 -0.0625  0.0625  0.0625 -0.0625  0.0625\n",
            " -0.0625 -0.0625  0.0625 -0.0625  0.0625  0.0625 -0.0625 -0.0625  0.0625\n",
            "  0.0625 -0.0625  0.0625 -0.0625 -0.0625  0.0625  0.0625 -0.0625 -0.0625\n",
            "  0.0625 -0.0625  0.0625  0.0625 -0.0625 -0.0625  0.0625  0.0625 -0.0625\n",
            "  0.0625 -0.0625 -0.0625  0.0625 -0.0625  0.0625  0.0625 -0.0625  0.0625\n",
            " -0.0625 -0.0625  0.0625  0.0625 -0.0625 -0.0625  0.0625 -0.0625  0.0625\n",
            "  0.0625 -0.0625 -0.0625  0.0625  0.0625 -0.0625  0.0625 -0.0625 -0.0625\n",
            "  0.0625  0.0625 -0.0625 -0.0625  0.0625 -0.0625  0.0625  0.0625 -0.0625\n",
            "  0.0625 -0.0625 -0.0625  0.0625 -0.0625  0.0625  0.0625 -0.0625 -0.0625\n",
            "  0.0625  0.0625 -0.0625  0.0625 -0.0625 -0.0625  0.0625  0.0625 -0.0625\n",
            " -0.0625  0.0625 -0.0625  0.0625  0.0625 -0.0625 -0.0625  0.0625  0.0625\n",
            " -0.0625  0.0625 -0.0625 -0.0625  0.0625 -0.0625  0.0625  0.0625 -0.0625\n",
            "  0.0625 -0.0625 -0.0625  0.0625  0.0625 -0.0625 -0.0625  0.0625 -0.0625\n",
            "  0.0625  0.0625 -0.0625  0.0625 -0.0625 -0.0625  0.0625 -0.0625  0.0625\n",
            "  0.0625 -0.0625 -0.0625  0.0625  0.0625 -0.0625  0.0625 -0.0625 -0.0625\n",
            "  0.0625 -0.0625  0.0625  0.0625 -0.0625  0.0625 -0.0625 -0.0625  0.0625\n",
            "  0.0625 -0.0625 -0.0625  0.0625 -0.0625  0.0625  0.0625 -0.0625 -0.0625\n",
            "  0.0625  0.0625 -0.0625  0.0625 -0.0625 -0.0625  0.0625  0.0625 -0.0625\n",
            " -0.0625  0.0625 -0.0625  0.0625  0.0625 -0.0625  0.0625 -0.0625 -0.0625\n",
            "  0.0625 -0.0625  0.0625  0.0625 -0.0625 -0.0625  0.0625  0.0625 -0.0625\n",
            "  0.0625 -0.0625 -0.0625  0.0625]\n",
            "\n",
            "Number of qubits: 8, Runtime: 0.041666 seconds\n",
            "\n",
            "Statevector(before)\n",
            " [1. 0. 0. 0. 0. 0. 0. 0. 0. 0. 0. 0. 0. 0. 0. 0. 0. 0. 0. 0. 0. 0. 0. 0.\n",
            " 0. 0. 0. 0. 0. 0. 0. 0. 0. 0. 0. 0. 0. 0. 0. 0. 0. 0. 0. 0. 0. 0. 0. 0.\n",
            " 0. 0. 0. 0. 0. 0. 0. 0. 0. 0. 0. 0. 0. 0. 0. 0. 0. 0. 0. 0. 0. 0. 0. 0.\n",
            " 0. 0. 0. 0. 0. 0. 0. 0. 0. 0. 0. 0. 0. 0. 0. 0. 0. 0. 0. 0. 0. 0. 0. 0.\n",
            " 0. 0. 0. 0. 0. 0. 0. 0. 0. 0. 0. 0. 0. 0. 0. 0. 0. 0. 0. 0. 0. 0. 0. 0.\n",
            " 0. 0. 0. 0. 0. 0. 0. 0. 0. 0. 0. 0. 0. 0. 0. 0. 0. 0. 0. 0. 0. 0. 0. 0.\n",
            " 0. 0. 0. 0. 0. 0. 0. 0. 0. 0. 0. 0. 0. 0. 0. 0. 0. 0. 0. 0. 0. 0. 0. 0.\n",
            " 0. 0. 0. 0. 0. 0. 0. 0. 0. 0. 0. 0. 0. 0. 0. 0. 0. 0. 0. 0. 0. 0. 0. 0.\n",
            " 0. 0. 0. 0. 0. 0. 0. 0. 0. 0. 0. 0. 0. 0. 0. 0. 0. 0. 0. 0. 0. 0. 0. 0.\n",
            " 0. 0. 0. 0. 0. 0. 0. 0. 0. 0. 0. 0. 0. 0. 0. 0. 0. 0. 0. 0. 0. 0. 0. 0.\n",
            " 0. 0. 0. 0. 0. 0. 0. 0. 0. 0. 0. 0. 0. 0. 0. 0. 0. 0. 0. 0. 0. 0. 0. 0.\n",
            " 0. 0. 0. 0. 0. 0. 0. 0. 0. 0. 0. 0. 0. 0. 0. 0. 0. 0. 0. 0. 0. 0. 0. 0.\n",
            " 0. 0. 0. 0. 0. 0. 0. 0. 0. 0. 0. 0. 0. 0. 0. 0. 0. 0. 0. 0. 0. 0. 0. 0.\n",
            " 0. 0. 0. 0. 0. 0. 0. 0. 0. 0. 0. 0. 0. 0. 0. 0. 0. 0. 0. 0. 0. 0. 0. 0.\n",
            " 0. 0. 0. 0. 0. 0. 0. 0. 0. 0. 0. 0. 0. 0. 0. 0. 0. 0. 0. 0. 0. 0. 0. 0.\n",
            " 0. 0. 0. 0. 0. 0. 0. 0. 0. 0. 0. 0. 0. 0. 0. 0. 0. 0. 0. 0. 0. 0. 0. 0.\n",
            " 0. 0. 0. 0. 0. 0. 0. 0. 0. 0. 0. 0. 0. 0. 0. 0. 0. 0. 0. 0. 0. 0. 0. 0.\n",
            " 0. 0. 0. 0. 0. 0. 0. 0. 0. 0. 0. 0. 0. 0. 0. 0. 0. 0. 0. 0. 0. 0. 0. 0.\n",
            " 0. 0. 0. 0. 0. 0. 0. 0. 0. 0. 0. 0. 0. 0. 0. 0. 0. 0. 0. 0. 0. 0. 0. 0.\n",
            " 0. 0. 0. 0. 0. 0. 0. 0. 0. 0. 0. 0. 0. 0. 0. 0. 0. 0. 0. 0. 0. 0. 0. 0.\n",
            " 0. 0. 0. 0. 0. 0. 0. 0. 0. 0. 0. 0. 0. 0. 0. 0. 0. 0. 0. 0. 0. 0. 0. 0.\n",
            " 0. 0. 0. 0. 0. 0. 0. 0.]\n",
            "\n",
            "Statevector(after)\n",
            " [ 0.04419417 -0.04419417 -0.04419417  0.04419417 -0.04419417  0.04419417\n",
            "  0.04419417 -0.04419417 -0.04419417  0.04419417  0.04419417 -0.04419417\n",
            "  0.04419417 -0.04419417 -0.04419417  0.04419417 -0.04419417  0.04419417\n",
            "  0.04419417 -0.04419417  0.04419417 -0.04419417 -0.04419417  0.04419417\n",
            "  0.04419417 -0.04419417 -0.04419417  0.04419417 -0.04419417  0.04419417\n",
            "  0.04419417 -0.04419417 -0.04419417  0.04419417  0.04419417 -0.04419417\n",
            "  0.04419417 -0.04419417 -0.04419417  0.04419417  0.04419417 -0.04419417\n",
            " -0.04419417  0.04419417 -0.04419417  0.04419417  0.04419417 -0.04419417\n",
            "  0.04419417 -0.04419417 -0.04419417  0.04419417 -0.04419417  0.04419417\n",
            "  0.04419417 -0.04419417 -0.04419417  0.04419417  0.04419417 -0.04419417\n",
            "  0.04419417 -0.04419417 -0.04419417  0.04419417 -0.04419417  0.04419417\n",
            "  0.04419417 -0.04419417  0.04419417 -0.04419417 -0.04419417  0.04419417\n",
            "  0.04419417 -0.04419417 -0.04419417  0.04419417 -0.04419417  0.04419417\n",
            "  0.04419417 -0.04419417  0.04419417 -0.04419417 -0.04419417  0.04419417\n",
            " -0.04419417  0.04419417  0.04419417 -0.04419417 -0.04419417  0.04419417\n",
            "  0.04419417 -0.04419417  0.04419417 -0.04419417 -0.04419417  0.04419417\n",
            "  0.04419417 -0.04419417 -0.04419417  0.04419417 -0.04419417  0.04419417\n",
            "  0.04419417 -0.04419417 -0.04419417  0.04419417  0.04419417 -0.04419417\n",
            "  0.04419417 -0.04419417 -0.04419417  0.04419417 -0.04419417  0.04419417\n",
            "  0.04419417 -0.04419417  0.04419417 -0.04419417 -0.04419417  0.04419417\n",
            "  0.04419417 -0.04419417 -0.04419417  0.04419417 -0.04419417  0.04419417\n",
            "  0.04419417 -0.04419417 -0.04419417  0.04419417  0.04419417 -0.04419417\n",
            "  0.04419417 -0.04419417 -0.04419417  0.04419417  0.04419417 -0.04419417\n",
            " -0.04419417  0.04419417 -0.04419417  0.04419417  0.04419417 -0.04419417\n",
            "  0.04419417 -0.04419417 -0.04419417  0.04419417 -0.04419417  0.04419417\n",
            "  0.04419417 -0.04419417 -0.04419417  0.04419417  0.04419417 -0.04419417\n",
            "  0.04419417 -0.04419417 -0.04419417  0.04419417  0.04419417 -0.04419417\n",
            " -0.04419417  0.04419417 -0.04419417  0.04419417  0.04419417 -0.04419417\n",
            " -0.04419417  0.04419417  0.04419417 -0.04419417  0.04419417 -0.04419417\n",
            " -0.04419417  0.04419417 -0.04419417  0.04419417  0.04419417 -0.04419417\n",
            "  0.04419417 -0.04419417 -0.04419417  0.04419417  0.04419417 -0.04419417\n",
            " -0.04419417  0.04419417 -0.04419417  0.04419417  0.04419417 -0.04419417\n",
            "  0.04419417 -0.04419417 -0.04419417  0.04419417 -0.04419417  0.04419417\n",
            "  0.04419417 -0.04419417 -0.04419417  0.04419417  0.04419417 -0.04419417\n",
            "  0.04419417 -0.04419417 -0.04419417  0.04419417 -0.04419417  0.04419417\n",
            "  0.04419417 -0.04419417  0.04419417 -0.04419417 -0.04419417  0.04419417\n",
            "  0.04419417 -0.04419417 -0.04419417  0.04419417 -0.04419417  0.04419417\n",
            "  0.04419417 -0.04419417 -0.04419417  0.04419417  0.04419417 -0.04419417\n",
            "  0.04419417 -0.04419417 -0.04419417  0.04419417  0.04419417 -0.04419417\n",
            " -0.04419417  0.04419417 -0.04419417  0.04419417  0.04419417 -0.04419417\n",
            "  0.04419417 -0.04419417 -0.04419417  0.04419417 -0.04419417  0.04419417\n",
            "  0.04419417 -0.04419417 -0.04419417  0.04419417  0.04419417 -0.04419417\n",
            "  0.04419417 -0.04419417 -0.04419417  0.04419417 -0.04419417  0.04419417\n",
            "  0.04419417 -0.04419417  0.04419417 -0.04419417 -0.04419417  0.04419417\n",
            "  0.04419417 -0.04419417 -0.04419417  0.04419417 -0.04419417  0.04419417\n",
            "  0.04419417 -0.04419417  0.04419417 -0.04419417 -0.04419417  0.04419417\n",
            " -0.04419417  0.04419417  0.04419417 -0.04419417 -0.04419417  0.04419417\n",
            "  0.04419417 -0.04419417  0.04419417 -0.04419417 -0.04419417  0.04419417\n",
            "  0.04419417 -0.04419417 -0.04419417  0.04419417 -0.04419417  0.04419417\n",
            "  0.04419417 -0.04419417 -0.04419417  0.04419417  0.04419417 -0.04419417\n",
            "  0.04419417 -0.04419417 -0.04419417  0.04419417 -0.04419417  0.04419417\n",
            "  0.04419417 -0.04419417  0.04419417 -0.04419417 -0.04419417  0.04419417\n",
            "  0.04419417 -0.04419417 -0.04419417  0.04419417 -0.04419417  0.04419417\n",
            "  0.04419417 -0.04419417  0.04419417 -0.04419417 -0.04419417  0.04419417\n",
            " -0.04419417  0.04419417  0.04419417 -0.04419417 -0.04419417  0.04419417\n",
            "  0.04419417 -0.04419417  0.04419417 -0.04419417 -0.04419417  0.04419417\n",
            " -0.04419417  0.04419417  0.04419417 -0.04419417  0.04419417 -0.04419417\n",
            " -0.04419417  0.04419417  0.04419417 -0.04419417 -0.04419417  0.04419417\n",
            " -0.04419417  0.04419417  0.04419417 -0.04419417 -0.04419417  0.04419417\n",
            "  0.04419417 -0.04419417  0.04419417 -0.04419417 -0.04419417  0.04419417\n",
            "  0.04419417 -0.04419417 -0.04419417  0.04419417 -0.04419417  0.04419417\n",
            "  0.04419417 -0.04419417  0.04419417 -0.04419417 -0.04419417  0.04419417\n",
            " -0.04419417  0.04419417  0.04419417 -0.04419417 -0.04419417  0.04419417\n",
            "  0.04419417 -0.04419417  0.04419417 -0.04419417 -0.04419417  0.04419417\n",
            "  0.04419417 -0.04419417 -0.04419417  0.04419417 -0.04419417  0.04419417\n",
            "  0.04419417 -0.04419417 -0.04419417  0.04419417  0.04419417 -0.04419417\n",
            "  0.04419417 -0.04419417 -0.04419417  0.04419417 -0.04419417  0.04419417\n",
            "  0.04419417 -0.04419417  0.04419417 -0.04419417 -0.04419417  0.04419417\n",
            "  0.04419417 -0.04419417 -0.04419417  0.04419417 -0.04419417  0.04419417\n",
            "  0.04419417 -0.04419417 -0.04419417  0.04419417  0.04419417 -0.04419417\n",
            "  0.04419417 -0.04419417 -0.04419417  0.04419417  0.04419417 -0.04419417\n",
            " -0.04419417  0.04419417 -0.04419417  0.04419417  0.04419417 -0.04419417\n",
            "  0.04419417 -0.04419417 -0.04419417  0.04419417 -0.04419417  0.04419417\n",
            "  0.04419417 -0.04419417 -0.04419417  0.04419417  0.04419417 -0.04419417\n",
            "  0.04419417 -0.04419417 -0.04419417  0.04419417 -0.04419417  0.04419417\n",
            "  0.04419417 -0.04419417  0.04419417 -0.04419417 -0.04419417  0.04419417\n",
            "  0.04419417 -0.04419417 -0.04419417  0.04419417 -0.04419417  0.04419417\n",
            "  0.04419417 -0.04419417  0.04419417 -0.04419417 -0.04419417  0.04419417\n",
            " -0.04419417  0.04419417  0.04419417 -0.04419417 -0.04419417  0.04419417\n",
            "  0.04419417 -0.04419417  0.04419417 -0.04419417 -0.04419417  0.04419417\n",
            "  0.04419417 -0.04419417 -0.04419417  0.04419417 -0.04419417  0.04419417\n",
            "  0.04419417 -0.04419417 -0.04419417  0.04419417  0.04419417 -0.04419417\n",
            "  0.04419417 -0.04419417 -0.04419417  0.04419417 -0.04419417  0.04419417\n",
            "  0.04419417 -0.04419417  0.04419417 -0.04419417 -0.04419417  0.04419417\n",
            "  0.04419417 -0.04419417 -0.04419417  0.04419417 -0.04419417  0.04419417\n",
            "  0.04419417 -0.04419417]\n",
            "\n",
            "Number of qubits: 9, Runtime: 0.174841 seconds\n",
            "\n",
            "Statevector(before)\n",
            " [1. 0. 0. ... 0. 0. 0.]\n",
            "\n",
            "Statevector(after)\n",
            " [ 0.03125 -0.03125 -0.03125 ... -0.03125 -0.03125  0.03125]\n",
            "\n",
            "Number of qubits: 10, Runtime: 0.546383 seconds\n",
            "\n",
            "Statevector(before)\n",
            " [1. 0. 0. ... 0. 0. 0.]\n",
            "\n",
            "Statevector(after)\n",
            " [ 0.02209709 -0.02209709 -0.02209709 ...  0.02209709  0.02209709\n",
            " -0.02209709]\n",
            "\n",
            "Number of qubits: 11, Runtime: 2.828429 seconds\n",
            "\n",
            "Statevector(before)\n",
            " [1. 0. 0. ... 0. 0. 0.]\n",
            "\n",
            "Statevector(after)\n",
            " [ 0.015625 -0.015625 -0.015625 ... -0.015625 -0.015625  0.015625]\n",
            "\n",
            "Number of qubits: 12, Runtime: 14.131426 seconds\n",
            "\n",
            "Statevector(before)\n",
            " [1. 0. 0. ... 0. 0. 0.]\n",
            "\n",
            "Statevector(after)\n",
            " [ 0.01104854 -0.01104854 -0.01104854 ...  0.01104854  0.01104854\n",
            " -0.01104854]\n",
            "\n",
            "Number of qubits: 13, Runtime: 28.456217 seconds\n",
            "\n",
            "Statevector(before)\n",
            " [1. 0. 0. ... 0. 0. 0.]\n",
            "\n",
            "Statevector(after)\n",
            " [ 0.0078125 -0.0078125 -0.0078125 ... -0.0078125 -0.0078125  0.0078125]\n",
            "\n",
            "Number of qubits: 14, Runtime: 108.828190 seconds\n",
            "\n"
          ]
        }
      ]
    },
    {
      "cell_type": "code",
      "source": [
        "plot_runtime(qubit_range, runtimes)"
      ],
      "metadata": {
        "id": "cZt9bE6WBN39",
        "colab": {
          "base_uri": "https://localhost:8080/",
          "height": 564
        },
        "outputId": "33e1c995-6b67-4537-d87b-60237a9bad93"
      },
      "execution_count": null,
      "outputs": [
        {
          "output_type": "display_data",
          "data": {
            "text/plain": [
              "<Figure size 1000x600 with 1 Axes>"
            ],
            "image/png": "[encoded data removed]"
          },
          "metadata": {}
        }
      ]
    },
    {
      "cell_type": "markdown",
      "source": [
        "## 2. Advanced Simulation with tensor multiplication"
      ],
      "metadata": {
        "id": "FKDmCsU3KRbt"
      }
    },
    {
      "cell_type": "code",
      "source": [
        "# Initialize the state tensor for n qubits (|00...0>)\n",
        "def initial_state_tensor(num_qubits):\n",
        "    state = np.zeros([2] * num_qubits)\n",
        "    state[(0,) * num_qubits] = 1\n",
        "    return state\n"
      ],
      "metadata": {
        "id": "LQywQY59RnA2"
      },
      "execution_count": null,
      "outputs": []
    },
    {
      "cell_type": "code",
      "source": [
        "# Example for a 1-5-qubit system\n",
        "for i in range (1, 5):\n",
        "    n_qubits = i\n",
        "    statevector = initial_state_tensor(n_qubits)\n",
        "    print(f\"n_qubit: {n_qubits}, State:|{'0' * n_qubits}>, Statevector:\\n{statevector}\")\n",
        "    print(f\"Statevector(flatened):\\n{statevector.flatten()}\")\n",
        "    print()\n"
      ],
      "metadata": {
        "id": "v9Bq_EcKRnDs",
        "colab": {
          "base_uri": "https://localhost:8080/"
        },
        "outputId": "f1925dd7-8386-4297-aafd-40bd2cd760f5"
      },
      "execution_count": null,
      "outputs": [
        {
          "output_type": "stream",
          "name": "stdout",
          "text": [
            "n_qubit: 1, State:|0>, Statevector:\n",
            "[1. 0.]\n",
            "Statevector(flatened):\n",
            "[1. 0.]\n",
            "\n",
            "n_qubit: 2, State:|00>, Statevector:\n",
            "[[1. 0.]\n",
            " [0. 0.]]\n",
            "Statevector(flatened):\n",
            "[1. 0. 0. 0.]\n",
            "\n",
            "n_qubit: 3, State:|000>, Statevector:\n",
            "[[[1. 0.]\n",
            "  [0. 0.]]\n",
            "\n",
            " [[0. 0.]\n",
            "  [0. 0.]]]\n",
            "Statevector(flatened):\n",
            "[1. 0. 0. 0. 0. 0. 0. 0.]\n",
            "\n",
            "n_qubit: 4, State:|0000>, Statevector:\n",
            "[[[[1. 0.]\n",
            "   [0. 0.]]\n",
            "\n",
            "  [[0. 0.]\n",
            "   [0. 0.]]]\n",
            "\n",
            "\n",
            " [[[0. 0.]\n",
            "   [0. 0.]]\n",
            "\n",
            "  [[0. 0.]\n",
            "   [0. 0.]]]]\n",
            "Statevector(flatened):\n",
            "[1. 0. 0. 0. 0. 0. 0. 0. 0. 0. 0. 0. 0. 0. 0. 0.]\n",
            "\n"
          ]
        }
      ]
    },
    {
      "cell_type": "code",
      "source": [
        "# Apply a single-qubit gate to a specific qubit\n",
        "def apply_single_qubit_gate(state_tensor, gate, qubit_index):\n",
        "    num_qubits = len(state_tensor.shape)\n",
        "    axes = [qubit_index] + list(range(1, num_qubits))\n",
        "    reshaped_tensor = np.moveaxis(state_tensor, qubit_index, 0)\n",
        "\n",
        "    # Apply the single-qubit gate using tensor multiplication\n",
        "    new_state = np.tensordot(gate, reshaped_tensor, axes=1)\n",
        "\n",
        "    # Restore the qubit axis order\n",
        "    return np.moveaxis(new_state, 0, qubit_index)\n",
        "\n",
        "# Define a quantum circuit and apply gates sequentially using tensor multiplication\n",
        "def quantum_circuit_tensor(num_qubits):\n",
        "    state = initial_state_tensor(num_qubits)\n",
        "\n",
        "    # print(f\"Statevector(before)\\n\",state)\n",
        "    # print()\n",
        "\n",
        "    for i in range(num_qubits):\n",
        "        # Apply X gate to all\n",
        "        state = apply_single_qubit_gate(state, pauli_x(), qubit_index=i)\n",
        "\n",
        "        # Apply Hadamard gate to all\n",
        "        state = apply_single_qubit_gate(state, hadamard(), qubit_index=i)\n",
        "\n",
        "\n",
        "    # print(f\"Statevector(after)\\n\",state)\n",
        "    # print()\n",
        "\n",
        "    return state\n",
        "\n",
        "def measure_runtime_tensor(n_qubits):\n",
        "    qubit_range = range(1, n_qubits)  # Test for 1 to n_qubits\n",
        "    runtimes = []\n",
        "\n",
        "    for num_qubits in qubit_range:\n",
        "        start_time = time.time()\n",
        "\n",
        "        quantum_circuit_tensor(num_qubits)\n",
        "\n",
        "        end_time = time.time()\n",
        "        runtime = end_time - start_time\n",
        "        runtimes.append(runtime)\n",
        "\n",
        "        print(f\"Number of qubits: {num_qubits}, Runtime: {runtime:.6f} seconds\")\n",
        "\n",
        "    return runtimes\n",
        "\n",
        "# Run the runtime measurement for tensor simulation\n",
        "\n",
        "n_qubits = 28\n",
        "qubit_range = range(1, n_qubits+1)\n",
        "runtimes_tensor = measure_runtime_tensor(n_qubits+1)"
      ],
      "metadata": {
        "id": "-b3KFG16Ehds",
        "colab": {
          "base_uri": "https://localhost:8080/"
        },
        "outputId": "870447a6-7ab5-4661-d46a-3b87e3bd9f54"
      },
      "execution_count": null,
      "outputs": [
        {
          "output_type": "stream",
          "name": "stdout",
          "text": [
            "Number of qubits: 1, Runtime: 0.004863 seconds\n",
            "Number of qubits: 2, Runtime: 0.000463 seconds\n",
            "Number of qubits: 3, Runtime: 0.000540 seconds\n",
            "Number of qubits: 4, Runtime: 0.000635 seconds\n",
            "Number of qubits: 5, Runtime: 0.001466 seconds\n",
            "Number of qubits: 6, Runtime: 0.001483 seconds\n",
            "Number of qubits: 7, Runtime: 0.001199 seconds\n",
            "Number of qubits: 8, Runtime: 0.001735 seconds\n",
            "Number of qubits: 9, Runtime: 0.002342 seconds\n",
            "Number of qubits: 10, Runtime: 0.001767 seconds\n",
            "Number of qubits: 11, Runtime: 0.001855 seconds\n",
            "Number of qubits: 12, Runtime: 0.001863 seconds\n",
            "Number of qubits: 13, Runtime: 0.002622 seconds\n",
            "Number of qubits: 14, Runtime: 0.002954 seconds\n",
            "Number of qubits: 15, Runtime: 0.004393 seconds\n",
            "Number of qubits: 16, Runtime: 0.009455 seconds\n",
            "Number of qubits: 17, Runtime: 0.015497 seconds\n",
            "Number of qubits: 18, Runtime: 0.037556 seconds\n",
            "Number of qubits: 19, Runtime: 0.088383 seconds\n",
            "Number of qubits: 20, Runtime: 0.324830 seconds\n",
            "Number of qubits: 21, Runtime: 0.668547 seconds\n",
            "Number of qubits: 22, Runtime: 1.316091 seconds\n",
            "Number of qubits: 23, Runtime: 3.918512 seconds\n",
            "Number of qubits: 24, Runtime: 5.252543 seconds\n",
            "Number of qubits: 25, Runtime: 11.482915 seconds\n",
            "Number of qubits: 26, Runtime: 22.921421 seconds\n",
            "Number of qubits: 27, Runtime: 45.290122 seconds\n",
            "Number of qubits: 28, Runtime: 94.774369 seconds\n"
          ]
        }
      ]
    },
    {
      "cell_type": "code",
      "source": [
        "# Plot the runtime vs. number of qubits\n",
        "def plot_runtime(qubit_range, runtimes):\n",
        "    plt.figure(figsize=(10, 6))\n",
        "    plt.plot(qubit_range, runtimes, marker='o', color='r')\n",
        "    plt.xlabel('Number of Qubits')\n",
        "    plt.ylabel('Runtime (seconds)')\n",
        "    plt.title('Runtime vs. Number of Qubits for Statevector Simulation using Tensor Multiplication')\n",
        "    plt.grid(True)\n",
        "    plt.show()\n",
        "plot_runtime(qubit_range, runtimes_tensor)"
      ],
      "metadata": {
        "id": "fNf8QqhgJOtC",
        "colab": {
          "base_uri": "https://localhost:8080/",
          "height": 564
        },
        "outputId": "ff90c9b7-bd7e-40a3-8927-a638259c1b9c"
      },
      "execution_count": null,
      "outputs": [
        {
          "output_type": "display_data",
          "data": {
            "text/plain": [
              "<Figure size 1000x600 with 1 Axes>"
            ],
            "image/png": "[encoded data removed]"
          },
          "metadata": {}
        }
      ]
    },
    {
      "cell_type": "markdown",
      "source": [
        "Tensor multiplication is much more efficient than regular matrix dot multiplication. With dot multiplication, I could simulate 14 qubits, while with tensor multiplication, I could simulate 28 qubits, twice the amount achievable with dot multiplication. Regarding runtime, it increases with the increasing number of qubits. Again, the runtime for tensor multiplication is much faster than for dot multiplication."
      ],
      "metadata": {
        "id": "jQ_mosW26Wu5"
      }
    },
    {
      "cell_type": "markdown",
      "source": [
        "> P.S.: I managed to work only on the X and H gates. I skipped the CNOT gate."
      ],
      "metadata": {
        "id": "ApIB_VWBUCbB"
      }
    },
    {
      "cell_type": "markdown",
      "source": [
        "## 3. Bonus Question"
      ],
      "metadata": {
        "id": "ETkPYpmUJ6Ds"
      }
    },
    {
      "cell_type": "code",
      "source": [
        "from collections import defaultdict\n",
        "\n",
        "# sampling from the final states in the statevector\n",
        "\n",
        "def sample_from_statevector(statevector, num_samples=1000):\n",
        "    # probabilities from statevector\n",
        "    probabilities = np.abs(statevector) ** 2\n",
        "\n",
        "    # number of qubits\n",
        "    num_qubits = int(np.log2(len(statevector)))\n",
        "\n",
        "    # samples\n",
        "    outcomes = np.arange(2 ** num_qubits)\n",
        "\n",
        "    # sample from the probabilities\n",
        "    samples = np.random.choice(outcomes, size=num_samples, p=probabilities)\n",
        "\n",
        "    # convert outcomes to binary strings and count frequencies\n",
        "    sample_counts = defaultdict(int)\n",
        "    for sample in samples:\n",
        "        binary_str = np.binary_repr(sample, width=num_qubits)\n",
        "        sample_counts[binary_str] += 1\n",
        "\n",
        "    return dict(sample_counts)\n",
        "\n",
        "'''\n",
        "I am sampling from the following statevectors. For tensors,\n",
        "I would flatten the matrix to get the statevector.\n",
        "'''\n",
        "statevectors = [\n",
        "                    [1/2**0.5, 1/2**0.5],                           # + sate\n",
        "                    [1/2**0.5, (-1)**0.5/2**0.5],                   # i sate\n",
        "                    [1/2**0.5, 0, 0, 1/2**0.5],                     # Bell psi plus\n",
        "                    [1/2**0.5, 0, 0, 0, 0, 0, 0, 1/2**0.5],         # GHZ 3 qubits\n",
        "                    [1/2**0.5, 0, 0, 0, 0, 0, 0, 0, 0, 0, 0, 0, 0, 0, 0, 1/2**0.5], # GHZ 4 qubits\n",
        "                    [0.5, 0, 0, 0.5, 0, 0.5, 0, 0.5]                # random state with 3 qubits\n",
        "                ]\n",
        "\n",
        "print(\"The string in between '' is the outcome and the number denotes no. of outcomes.\")\n",
        "for statevector in statevectors:\n",
        "    samples = sample_from_statevector(statevector, num_samples=100)\n",
        "    print(samples)\n"
      ],
      "metadata": {
        "id": "AAPU3JofsnXy",
        "colab": {
          "base_uri": "https://localhost:8080/"
        },
        "outputId": "17d2f210-9be8-4ee8-e09e-7480a6bb99a5"
      },
      "execution_count": null,
      "outputs": [
        {
          "output_type": "stream",
          "name": "stdout",
          "text": [
            "The string in between '' is the outcome and the number denotes no. of outcomes.\n",
            "{'1': 44, '0': 56}\n",
            "{'1': 48, '0': 52}\n",
            "{'00': 50, '11': 50}\n",
            "{'000': 45, '111': 55}\n",
            "{'1111': 51, '0000': 49}\n",
            "{'011': 28, '101': 30, '111': 22, '000': 20}\n"
          ]
        }
      ]
    },
    {
      "cell_type": "markdown",
      "source": [
        "Estimaing expectation values, $⟨Ψ|Op|Ψ⟩$"
      ],
      "metadata": {
        "id": "fFok6j1uxemN"
      }
    },
    {
      "cell_type": "code",
      "source": [
        "def pauli_z():\n",
        "    return np.array([[1, 0],\n",
        "                     [0, -1]])\n",
        "\n",
        "def pauli_y():\n",
        "    return np.array([[0, -1],\n",
        "                     [1, 0]])* (-1)**0.5\n",
        "\n",
        "def compute_expectation_value(statevector, operator):\n",
        "\n",
        "    # Apply the operator to the statevector (matrix-vector multiplication); | O | Psi>\n",
        "    op_applied_to_psi = np.dot(operator, statevector)\n",
        "\n",
        "    # Compute the inner product: <Psi | O | Psi>\n",
        "    # vdot computes conjugate inner product\n",
        "    expectation_value = np.vdot(statevector, op_applied_to_psi)\n",
        "\n",
        "    return expectation_value\n",
        "\n",
        "# Example: Statevector for a 1-qubit |+> state (superposition state)\n",
        "statevector = np.array([1/2**0.5, 1/2**0.5])  # |+> = (|0> + |1>)/sqrt(2)\n",
        "\n",
        "# Compute expectation value of Hadamard\n",
        "expectation_value = compute_expectation_value(statevector, hadamard())\n",
        "print(\"Expectation value of the Hadamard Operator:\", expectation_value)\n",
        "\n",
        "\n",
        "# Compute expectation value of Pauli-X\n",
        "expectation_value = compute_expectation_value(statevector, pauli_x())\n",
        "print(\"Expectation value of the Pauli-X Operator:\", expectation_value)\n",
        "\n",
        "# Compute expectation value of Pauli-Y\n",
        "expectation_value = compute_expectation_value(statevector, pauli_y())\n",
        "print(\"Expectation value of the Pauli-Y Operator:\", expectation_value)\n",
        "\n",
        "# Compute expectation value of Pauli-Z\n",
        "expectation_value = compute_expectation_value(statevector, pauli_z())\n",
        "print(\"Expectation value of the Pauli-Z Operator:\", expectation_value)\n",
        "\n",
        "# Compute expectation value of Identity\n",
        "expectation_value = compute_expectation_value(statevector, identity())\n",
        "print(\"Expectation value of the Identity Operator:\", expectation_value)"
      ],
      "metadata": {
        "id": "EANGvCkRT-cl",
        "colab": {
          "base_uri": "https://localhost:8080/"
        },
        "outputId": "7ec47745-ea7b-46cb-9698-70ae56146629"
      },
      "execution_count": null,
      "outputs": [
        {
          "output_type": "stream",
          "name": "stdout",
          "text": [
            "Expectation value of the Hadamard Operator: 0.7071067811865474\n",
            "Expectation value of the Pauli-X Operator: 0.9999999999999998\n",
            "Expectation value of the Pauli-Y Operator: 0j\n",
            "Expectation value of the Pauli-Z Operator: 0.0\n",
            "Expectation value of the Identity Operator: 0.9999999999999998\n"
          ]
        }
      ]
    }
  ]
}